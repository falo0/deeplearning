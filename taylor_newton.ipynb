{
 "cells": [
  {
   "cell_type": "markdown",
   "metadata": {},
   "source": [
    "# Newton's Method"
   ]
  },
  {
   "cell_type": "markdown",
   "metadata": {},
   "source": [
    "#### Taylor Expansion\n",
    "Estimation of a function value at a given point, coming from a starting point with known function value. E.g. we are at x = (2, 3)' and know f(2, 3) = 20, we wonder what f(3, 4) is."
   ]
  },
  {
   "cell_type": "markdown",
   "metadata": {},
   "source": [
    "##### First-Order Taylor Expansion (repetition from last year's Statistical Inference lecture, chapter 2)\n",
    "For linear functions (planes), an exact determination of a function value at a given point is possible with a first-order Taylor expansion"
   ]
  },
  {
   "cell_type": "code",
   "execution_count": 14,
   "metadata": {},
   "outputs": [],
   "source": [
    "import numpy as np"
   ]
  },
  {
   "cell_type": "code",
   "execution_count": 15,
   "metadata": {},
   "outputs": [],
   "source": [
    "x_start = np.array([2, 3])"
   ]
  },
  {
   "cell_type": "code",
   "execution_count": 16,
   "metadata": {},
   "outputs": [
    {
     "data": {
      "text/plain": [
       "20"
      ]
     },
     "execution_count": 16,
     "metadata": {},
     "output_type": "execute_result"
    }
   ],
   "source": [
    "# Some linear function: 5 + 3x1 + 3x2 + ...\n",
    "def lin_f(x):\n",
    "    function_value = 5 + np.sum(3 * x) # slope is 3 in all dimensions\n",
    "    return function_value\n",
    "\n",
    "# example output\n",
    "lin_f(x_start)"
   ]
  },
  {
   "cell_type": "code",
   "execution_count": 4,
   "metadata": {},
   "outputs": [
    {
     "data": {
      "text/plain": [
       "array([3, 3])"
      ]
     },
     "execution_count": 4,
     "metadata": {},
     "output_type": "execute_result"
    }
   ],
   "source": [
    "# Gradient: (3, 3, ...)'\n",
    "def dlin_f(x):\n",
    "    return x * 0 + 3 # x * 0 is only to get a 0 vector of same dimension as x\n",
    "\n",
    "# example output\n",
    "dlin_f(x_start)"
   ]
  },
  {
   "cell_type": "code",
   "execution_count": 5,
   "metadata": {},
   "outputs": [
    {
     "name": "stdout",
     "output_type": "stream",
     "text": [
      "26\n",
      "26\n"
     ]
    }
   ],
   "source": [
    "# Taylor expansion (first-order)\n",
    "x_sought = np.array([3, 4])\n",
    "\n",
    "def taylor1(x_start, f, df, x_sought):\n",
    "    f_sought_est = f(x_start) + df(x_start) @ (x_sought - x_start) # @: matrix product\n",
    "    return f_sought_est\n",
    "\n",
    "#check\n",
    "estimation = taylor1(x_start, lin_f, dlin_f, x_sought)\n",
    "print(estimation)\n",
    "print(lin_f(x_sought))\n"
   ]
  },
  {
   "cell_type": "markdown",
   "metadata": {},
   "source": [
    "We could exactly \"estimate\" lin_f(3, 5) with a first-order Taylor expansion."
   ]
  },
  {
   "cell_type": "markdown",
   "metadata": {},
   "source": [
    "##### Second-Order Taylor Expansion (this is used in the book)\n",
    "For quadratic functions, an exact determination of a function value at a given point is possible with a second-order Taylor expansion"
   ]
  },
  {
   "cell_type": "code",
   "execution_count": 6,
   "metadata": {},
   "outputs": [
    {
     "data": {
      "text/plain": [
       "44"
      ]
     },
     "execution_count": 6,
     "metadata": {},
     "output_type": "execute_result"
    }
   ],
   "source": [
    "# Some quadratic function: 5 + 3x1^2 + 3x2^2 + ...\n",
    "def quad_f(x):\n",
    "    function_value = 5 + np.sum(3 * x**2)\n",
    "    return function_value\n",
    "\n",
    "# example output\n",
    "quad_f(x_start)"
   ]
  },
  {
   "cell_type": "code",
   "execution_count": 7,
   "metadata": {},
   "outputs": [
    {
     "data": {
      "text/plain": [
       "array([12, 18])"
      ]
     },
     "execution_count": 7,
     "metadata": {},
     "output_type": "execute_result"
    }
   ],
   "source": [
    "# Gradient: (6x1, 6x2, ...)'\n",
    "def dquad_f(x):\n",
    "    return x * 6\n",
    "\n",
    "# example output\n",
    "dquad_f(x_start)"
   ]
  },
  {
   "cell_type": "code",
   "execution_count": 8,
   "metadata": {},
   "outputs": [
    {
     "data": {
      "text/plain": [
       "array([[6., 0.],\n",
       "       [0., 6.]])"
      ]
     },
     "execution_count": 8,
     "metadata": {},
     "output_type": "execute_result"
    }
   ],
   "source": [
    "# Hessian:\n",
    "def ddquad_f(x):\n",
    "    identity_mat = np.eye(len(x), dtype=float)\n",
    "    return identity_mat * 6\n",
    "\n",
    "# example output\n",
    "ddquad_f(x_start)"
   ]
  },
  {
   "cell_type": "code",
   "execution_count": 9,
   "metadata": {},
   "outputs": [
    {
     "name": "stdout",
     "output_type": "stream",
     "text": [
      "second-order Taylor estimation: 80.0\n",
      "real value: quad_f(x_new) = : 80\n",
      "first-order Taylor estimation: 74\n"
     ]
    }
   ],
   "source": [
    "# Taylor expansion (second-order)\n",
    "x_sought = np.array([3, 4])\n",
    "\n",
    "def taylor2(x_start, f, df, ddf, x_sought):\n",
    "    delta = (x_sought - x_start)\n",
    "    f_sought_est = f(x_start) + df(x_start) @ delta + 0.5 * delta @ ddquad_f(x_start) @ delta \n",
    "    return f_sought_est\n",
    "\n",
    "#check\n",
    "estimation = taylor2(x_start, quad_f, dquad_f, ddquad_f, x_sought)\n",
    "print(\"second-order Taylor estimation: \" + str(estimation))\n",
    "print(\"real value: quad_f(x_new) = : \" + str(quad_f(x_sought)))\n",
    "\n",
    "#estimate quadratic function with a first-order taylor expansion\n",
    "print(\"first-order Taylor estimation: \" + str(taylor1(x_start, quad_f, dquad_f, x_sought)))\n"
   ]
  },
  {
   "cell_type": "markdown",
   "metadata": {},
   "source": [
    "We could exactly \"estimate\" quad_f(3, 5) = 80 with a second-order Taylor expansion. The result of the first-order Taylor expansion is just an approximation.\n",
    "\n",
    "-> for higher-order polynomials or non-plynomial-functions the Taylor estimation can be off, especially when delta is big, e.g. if the function value of a point is estimated that is far away from the current/starting point.\n",
    "\n",
    "#### Newton Algorithm\n",
    "The Newton algorithm seeks the root, we want an x_sought where f(x_sought) = 0. We can set the Taylor estimation of f(x_sought) to zero and then analytically determine the x_sought point where f(x_sought) is estimated to be zero according to the Taylor expansion. \n",
    "\n",
    "If the target function is a polynomial and the Taylor expansion has at least the order of that polynomial, the Newton Algorithm finds the exact root with one step. But for most target functions (non-plynomial or polynomial of higher-order), the point where the root was estimated to be turns out to not (exactly) be the root of the function. The estimated x_sought is now seen as the new staring point x_start and another step of the newton algorithm is started. We do as many steps until the estimations for the root don't change much between steps."
   ]
  },
  {
   "cell_type": "code",
   "execution_count": 10,
   "metadata": {},
   "outputs": [
    {
     "data": {
      "text/plain": [
       "array([0., 0.])"
      ]
     },
     "execution_count": 10,
     "metadata": {},
     "output_type": "execute_result"
    }
   ],
   "source": [
    "# Example on the given quadratic function\n",
    "# Determination of the exact root of a second-order Taylor series (as used in the Goodfellow book)\n",
    "# step 1 (all we need for a quadratic function):\n",
    "x_sought = x_start - np.linalg.inv(ddquad_f(x_start)) @ dquad_f(x_start)\n",
    "x_sought"
   ]
  },
  {
   "cell_type": "code",
   "execution_count": 11,
   "metadata": {
    "scrolled": true
   },
   "outputs": [
    {
     "data": {
      "text/plain": [
       "5"
      ]
     },
     "execution_count": 11,
     "metadata": {},
     "output_type": "execute_result"
    }
   ],
   "source": [
    "quad_f(np.array([0, 0]))"
   ]
  },
  {
   "cell_type": "markdown",
   "metadata": {},
   "source": [
    "The second-order Newton algorithm only needed one step for the best possible result for the given quadratic function. 5 is not 0, so (0, 0)' is not a root of quad_f, but it is the lowest possible point due to the intercept of 5. The full second-order Newton algorithm that allows for multiple steps is as follows:"
   ]
  },
  {
   "cell_type": "code",
   "execution_count": 12,
   "metadata": {},
   "outputs": [],
   "source": [
    "def newton2(x_start, df, ddf, stop_delta = 0.1):\n",
    "    # Stopping criterion: stop when the last two estimated points are close to each other.\n",
    "    # E.g. when the Euclidian distance between the last two estimated points (estimation_delta) \n",
    "    # is smaller or equal to a defined stop_delta\n",
    "    \n",
    "    # Initialization, just to get the while loop running\n",
    "    estimation_delta = stop_delta + 1\n",
    "    \n",
    "    while estimation_delta > stop_delta: \n",
    "        # a step\n",
    "        print(\"step\")\n",
    "        \n",
    "        x_sought = x_start - np.linalg.inv(ddf(x_start)) @ df(x_start)\n",
    "        \n",
    "        # result comparison with previous step\n",
    "        estimation_delta = np.sqrt(x_start @ x_sought) # used Euclidian distance here\n",
    "        \n",
    "        # x_sought becomes the x_start of the next step:\n",
    "        x_start = x_sought\n",
    "    \n",
    "    return x_sought"
   ]
  },
  {
   "cell_type": "code",
   "execution_count": 13,
   "metadata": {},
   "outputs": [
    {
     "name": "stdout",
     "output_type": "stream",
     "text": [
      "step\n"
     ]
    },
    {
     "data": {
      "text/plain": [
       "array([0., 0.])"
      ]
     },
     "execution_count": 13,
     "metadata": {},
     "output_type": "execute_result"
    }
   ],
   "source": [
    "newton2(np.array([5, 3]), dquad_f, ddquad_f)"
   ]
  },
  {
   "cell_type": "markdown",
   "metadata": {},
   "source": [
    "After only 1 step, the second-order Newton algorithm reached the global minimum of the quadratic function quad_f()."
   ]
  }
 ],
 "metadata": {
  "kernelspec": {
   "display_name": "Python 3",
   "language": "python",
   "name": "python3"
  },
  "language_info": {
   "codemirror_mode": {
    "name": "ipython",
    "version": 3
   },
   "file_extension": ".py",
   "mimetype": "text/x-python",
   "name": "python",
   "nbconvert_exporter": "python",
   "pygments_lexer": "ipython3",
   "version": "3.6.4"
  }
 },
 "nbformat": 4,
 "nbformat_minor": 2
}
